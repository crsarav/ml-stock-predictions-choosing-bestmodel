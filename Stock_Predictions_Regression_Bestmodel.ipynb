{
 "cells": [
  {
   "cell_type": "code",
   "execution_count": 234,
   "metadata": {},
   "outputs": [],
   "source": [
    "# Load libraries\n",
    "import numpy\n",
    "from numpy import arange\n",
    "from matplotlib import pyplot\n",
    "from pandas import read_csv\n",
    "from pandas import set_option\n",
    "from pandas.plotting import scatter_matrix\n",
    "from sklearn.preprocessing import StandardScaler\n",
    "from sklearn.model_selection import train_test_split\n",
    "from sklearn.model_selection import KFold\n",
    "from sklearn.model_selection import cross_val_score\n",
    "from sklearn.model_selection import GridSearchCV\n",
    "from sklearn.linear_model import LinearRegression\n",
    "from sklearn.linear_model import Lasso\n",
    "from sklearn.linear_model import ElasticNet\n",
    "from sklearn.tree import DecisionTreeRegressor\n",
    "from sklearn.neighbors import KNeighborsRegressor\n",
    "from sklearn.svm import SVR\n",
    "from sklearn.metrics import mean_squared_error\n",
    "import yfinance as yf\n",
    "import pandas_datareader.data as pdr\n",
    "import datetime\n",
    "import warnings\n",
    "warnings.filterwarnings('ignore')"
   ]
  },
  {
   "cell_type": "code",
   "execution_count": 235,
   "metadata": {},
   "outputs": [],
   "source": [
    "#set yfinance to fetch required data\n",
    "yf.pdr_override\n",
    "\n",
    "start='2010-01-01'\n",
    "end=datetime.datetime.now().strftime(\"%Y-%m-%d\")\n",
    "company='FB'\n",
    "train_cutoff=\"2018-12-31\""
   ]
  },
  {
   "cell_type": "code",
   "execution_count": 236,
   "metadata": {},
   "outputs": [
    {
     "data": {
      "text/plain": [
       "<bound method NDFrame.head of            Date    High     Low    Open   Close     Volume  Adj Close  \\\n",
       "0    2012-05-18   45.00   38.00   42.05   38.23  573576400      38.23   \n",
       "1    2012-05-21   36.66   33.00   36.53   34.03  168192700      34.03   \n",
       "2    2012-05-22   33.59   30.94   32.61   31.00  101786600      31.00   \n",
       "3    2012-05-23   32.50   31.36   31.37   32.00   73600000      32.00   \n",
       "4    2012-05-24   33.21   31.77   32.95   33.03   50237200      33.03   \n",
       "5    2012-05-25   32.95   31.11   32.90   31.91   37149800      31.91   \n",
       "6    2012-05-29   31.69   28.65   31.48   28.84   78063400      28.84   \n",
       "7    2012-05-30   29.55   27.86   28.70   28.19   57267900      28.19   \n",
       "8    2012-05-31   29.67   26.83   28.55   29.60  111639200      29.60   \n",
       "9    2012-06-01   29.15   27.39   28.89   27.72   41855500      27.72   \n",
       "10   2012-06-04   27.65   26.44   27.20   26.90   35230300      26.90   \n",
       "11   2012-06-05   27.76   25.75   26.70   25.87   42473400      25.87   \n",
       "12   2012-06-06   27.17   25.52   26.07   26.81   61489200      26.81   \n",
       "13   2012-06-07   27.35   26.15   27.00   26.31   26159500      26.31   \n",
       "14   2012-06-08   27.76   26.44   26.55   27.10   38034000      27.10   \n",
       "15   2012-06-11   28.07   26.84   27.18   27.01   28219600      27.01   \n",
       "16   2012-06-12   27.77   26.96   27.48   27.40   15816800      27.40   \n",
       "17   2012-06-13   28.10   27.10   27.66   27.27   17102800      27.27   \n",
       "18   2012-06-14   28.32   27.38   27.65   28.29   16855000      28.29   \n",
       "19   2012-06-15   30.10   28.35   28.51   30.01   43563800      30.01   \n",
       "20   2012-06-18   32.08   29.41   29.96   31.41   42978900      31.41   \n",
       "21   2012-06-19   32.18   30.70   31.54   31.91   30849000      31.91   \n",
       "22   2012-06-20   31.93   31.15   31.92   31.60   15553600      31.60   \n",
       "23   2012-06-21   32.50   31.51   31.67   31.84   21875300      31.84   \n",
       "24   2012-06-22   33.45   32.06   32.41   33.05   74834000      33.05   \n",
       "25   2012-06-25   33.02   31.55   32.86   32.06   24352900      32.06   \n",
       "26   2012-06-26   33.44   32.50   32.69   33.10   24858700      33.10   \n",
       "27   2012-06-27   32.90   31.90   32.46   32.23   28568000      32.23   \n",
       "28   2012-06-28   32.19   30.90   31.96   31.36   17713300      31.36   \n",
       "29   2012-06-29   31.99   30.76   31.92   31.10   19526900      31.10   \n",
       "...         ...     ...     ...     ...     ...        ...        ...   \n",
       "1806 2019-07-25  208.66  198.26  206.70  200.71   39889900     200.71   \n",
       "1807 2019-07-26  202.88  196.25  200.19  199.75   24434000     199.75   \n",
       "1808 2019-07-29  199.63  195.30  199.00  195.94   16530800     195.94   \n",
       "1809 2019-07-30  198.71  193.50  195.39  197.04   11903600     197.04   \n",
       "1810 2019-07-31  198.76  192.68  196.95  194.23   14593500     194.23   \n",
       "1811 2019-08-01  198.47  190.88  194.17  192.73   17777000     192.73   \n",
       "1812 2019-08-02  192.62  188.07  191.10  189.02   15297000     189.02   \n",
       "1813 2019-08-05  185.67  179.34  184.69  181.73   23086700     181.73   \n",
       "1814 2019-08-06  185.79  183.09  183.69  184.51   18035700     184.51   \n",
       "1815 2019-08-07  186.37  181.22  183.60  185.15   15833200     185.15   \n",
       "1816 2019-08-08  190.34  184.05  186.62  190.16   14828900     190.16   \n",
       "1817 2019-08-09  190.98  187.12  190.00  187.85   11058800     187.85   \n",
       "1818 2019-08-12  187.59  184.46  186.85  185.37   10936300     185.37   \n",
       "1819 2019-08-13  191.38  185.37  185.52  188.45   13577000     188.45   \n",
       "1820 2019-08-14  185.99  179.31  185.80  179.71   18903700     179.71   \n",
       "1821 2019-08-15  183.20  180.03  180.95  182.59   12925900     182.59   \n",
       "1822 2019-08-16  185.10  182.36  183.75  183.70   12654600     183.70   \n",
       "1823 2019-08-19  187.50  184.85  186.01  186.17    9691200     186.17   \n",
       "1824 2019-08-20  186.00  182.39  185.45  183.81   10083400     183.81   \n",
       "1825 2019-08-21  185.90  183.14  185.00  183.55    8398200     183.55   \n",
       "1826 2019-08-22  184.11  179.91  183.43  182.04   10821400     182.04   \n",
       "1827 2019-08-23  183.13  176.66  180.84  177.75   17323400     177.75   \n",
       "1828 2019-08-26  180.50  178.24  179.40  180.36    8773600     180.36   \n",
       "1829 2019-08-27  184.04  181.01  181.93  181.30   14399600     181.30   \n",
       "1830 2019-08-28  181.95  178.92  180.53  181.76    9386100     181.76   \n",
       "1831 2019-08-29  186.08  183.47  183.77  185.57   10128700     185.57   \n",
       "1832 2019-08-30  186.80  183.46  186.78  185.67   10774500     185.67   \n",
       "1833 2019-09-03  185.67  182.11  184.00  182.39    9779400     182.39   \n",
       "1834 2019-09-04  187.75  183.89  184.65  187.14   11308000     187.14   \n",
       "1835 2019-09-05  191.36  187.94  188.53  190.90   12874037     190.90   \n",
       "\n",
       "      HL_PCT_FB  PCT_change_FB  \n",
       "0         18.31          -9.08  \n",
       "1         10.76          -6.84  \n",
       "2          8.55          -4.94  \n",
       "3          3.56           2.01  \n",
       "4          4.36           0.24  \n",
       "5          5.77          -3.01  \n",
       "6         10.54          -8.39  \n",
       "7          6.00          -1.78  \n",
       "8          9.59           3.68  \n",
       "9          6.35          -4.05  \n",
       "10         4.50          -1.10  \n",
       "11         7.77          -3.11  \n",
       "12         6.15           2.84  \n",
       "13         4.56          -2.56  \n",
       "14         4.87           2.07  \n",
       "15         4.55          -0.63  \n",
       "16         2.96          -0.29  \n",
       "17         3.67          -1.41  \n",
       "18         3.32           2.31  \n",
       "19         5.83           5.26  \n",
       "20         8.50           4.84  \n",
       "21         4.64           1.17  \n",
       "22         2.47          -1.00  \n",
       "23         3.11           0.54  \n",
       "24         4.21           1.97  \n",
       "25         4.59          -2.43  \n",
       "26         2.84           1.25  \n",
       "27         3.10          -0.71  \n",
       "28         4.11          -1.88  \n",
       "29         3.95          -2.57  \n",
       "...         ...            ...  \n",
       "1806       5.18          -2.90  \n",
       "1807       3.32          -0.22  \n",
       "1808       2.21          -1.54  \n",
       "1809       2.64           0.84  \n",
       "1810       3.13          -1.38  \n",
       "1811       3.94          -0.74  \n",
       "1812       2.41          -1.09  \n",
       "1813       3.48          -1.60  \n",
       "1814       1.46           0.45  \n",
       "1815       2.78           0.84  \n",
       "1816       3.31           1.90  \n",
       "1817       2.05          -1.13  \n",
       "1818       1.69          -0.79  \n",
       "1819       3.19           1.58  \n",
       "1820       3.72          -3.28  \n",
       "1821       1.74           0.91  \n",
       "1822       1.49          -0.03  \n",
       "1823       1.42           0.09  \n",
       "1824       1.96          -0.88  \n",
       "1825       1.50          -0.78  \n",
       "1826       2.31          -0.76  \n",
       "1827       3.64          -1.71  \n",
       "1828       1.25           0.54  \n",
       "1829       1.67          -0.35  \n",
       "1830       1.67           0.68  \n",
       "1831       1.41           0.98  \n",
       "1832       1.80          -0.59  \n",
       "1833       1.95          -0.88  \n",
       "1834       2.06           1.35  \n",
       "1835       1.79           1.26  \n",
       "\n",
       "[1836 rows x 9 columns]>"
      ]
     },
     "execution_count": 236,
     "metadata": {},
     "output_type": "execute_result"
    }
   ],
   "source": [
    "#function to get data\n",
    "df = pdr.get_data_yahoo(\"FB\", start, end).reset_index()\n",
    "\n",
    "#   df.to_csv('FB.csv', index=False)\n",
    "\n",
    "df['HL_PCT_FB']=(df['High']-df['Low'])/df['Close']*100.0\n",
    "df['PCT_change_FB']=(df['Close']-df['Open'])/df['Open']*100.0\n",
    "\n",
    "df.head\n"
   ]
  },
  {
   "cell_type": "code",
   "execution_count": 237,
   "metadata": {},
   "outputs": [
    {
     "name": "stdout",
     "output_type": "stream",
     "text": [
      "(1836, 9)\n",
      "Date             datetime64[ns]\n",
      "High                    float64\n",
      "Low                     float64\n",
      "Open                    float64\n",
      "Close                   float64\n",
      "Volume                    int64\n",
      "Adj Close               float64\n",
      "HL_PCT_FB               float64\n",
      "PCT_change_FB           float64\n",
      "dtype: object\n",
      "         Date   High    Low   Open  Close     Volume  Adj Close  HL_PCT_FB  \\\n",
      "0  2012-05-18  45.00  38.00  42.05  38.23  573576400      38.23      18.31   \n",
      "1  2012-05-21  36.66  33.00  36.53  34.03  168192700      34.03      10.76   \n",
      "2  2012-05-22  33.59  30.94  32.61  31.00  101786600      31.00       8.55   \n",
      "3  2012-05-23  32.50  31.36  31.37  32.00   73600000      32.00       3.56   \n",
      "4  2012-05-24  33.21  31.77  32.95  33.03   50237200      33.03       4.36   \n",
      "5  2012-05-25  32.95  31.11  32.90  31.91   37149800      31.91       5.77   \n",
      "6  2012-05-29  31.69  28.65  31.48  28.84   78063400      28.84      10.54   \n",
      "7  2012-05-30  29.55  27.86  28.70  28.19   57267900      28.19       6.00   \n",
      "8  2012-05-31  29.67  26.83  28.55  29.60  111639200      29.60       9.59   \n",
      "9  2012-06-01  29.15  27.39  28.89  27.72   41855500      27.72       6.35   \n",
      "10 2012-06-04  27.65  26.44  27.20  26.90   35230300      26.90       4.50   \n",
      "11 2012-06-05  27.76  25.75  26.70  25.87   42473400      25.87       7.77   \n",
      "12 2012-06-06  27.17  25.52  26.07  26.81   61489200      26.81       6.15   \n",
      "13 2012-06-07  27.35  26.15  27.00  26.31   26159500      26.31       4.56   \n",
      "14 2012-06-08  27.76  26.44  26.55  27.10   38034000      27.10       4.87   \n",
      "15 2012-06-11  28.07  26.84  27.18  27.01   28219600      27.01       4.55   \n",
      "16 2012-06-12  27.77  26.96  27.48  27.40   15816800      27.40       2.96   \n",
      "17 2012-06-13  28.10  27.10  27.66  27.27   17102800      27.27       3.67   \n",
      "18 2012-06-14  28.32  27.38  27.65  28.29   16855000      28.29       3.32   \n",
      "19 2012-06-15  30.10  28.35  28.51  30.01   43563800      30.01       5.83   \n",
      "\n",
      "    PCT_change_FB  \n",
      "0           -9.08  \n",
      "1           -6.84  \n",
      "2           -4.94  \n",
      "3            2.01  \n",
      "4            0.24  \n",
      "5           -3.01  \n",
      "6           -8.39  \n",
      "7           -1.78  \n",
      "8            3.68  \n",
      "9           -4.05  \n",
      "10          -1.10  \n",
      "11          -3.11  \n",
      "12           2.84  \n",
      "13          -2.56  \n",
      "14           2.07  \n",
      "15          -0.63  \n",
      "16          -0.29  \n",
      "17          -1.41  \n",
      "18           2.31  \n",
      "19           5.26  \n",
      "         High     Low    Open   Close   Volume  Adj Close  HL_PCT_FB  \\\n",
      "count  1836.0  1836.0  1836.0  1836.0  1.8e+03     1836.0     1836.0   \n",
      "mean    107.1   104.8   105.9   106.0  3.4e+07      106.0        2.5   \n",
      "std      55.8    54.8    55.3    55.3  3.0e+07       55.3        1.5   \n",
      "min      18.3    17.5    18.1    17.7  5.9e+06       17.7        0.4   \n",
      "25%      62.4    60.1    61.0    61.1  1.7e+07       61.1        1.5   \n",
      "50%     106.9   104.5   105.9   105.6  2.5e+07      105.6        2.1   \n",
      "75%     160.4   155.3   157.7   157.9  4.2e+07      157.9        3.1   \n",
      "max     218.6   214.3   215.7   217.5  5.7e+08      217.5       18.3   \n",
      "\n",
      "       PCT_change_FB  \n",
      "count        1.8e+03  \n",
      "mean        -8.1e-03  \n",
      "std          1.8e+00  \n",
      "min         -9.1e+00  \n",
      "25%         -9.1e-01  \n",
      "50%          2.3e-02  \n",
      "75%          9.0e-01  \n",
      "max          1.1e+01  \n",
      "               High   Low  Open  Close  Volume  Adj Close  HL_PCT_FB  \\\n",
      "High           1.00  1.00  1.00   1.00   -0.45       1.00      -0.36   \n",
      "Low            1.00  1.00  1.00   1.00   -0.46       1.00      -0.38   \n",
      "Open           1.00  1.00  1.00   1.00   -0.45       1.00      -0.37   \n",
      "Close          1.00  1.00  1.00   1.00   -0.45       1.00      -0.37   \n",
      "Volume        -0.45 -0.46 -0.45  -0.45    1.00      -0.45       0.68   \n",
      "Adj Close      1.00  1.00  1.00   1.00   -0.45       1.00      -0.37   \n",
      "HL_PCT_FB     -0.36 -0.38 -0.37  -0.37    0.68      -0.37       1.00   \n",
      "PCT_change_FB  0.04  0.04  0.03   0.06   -0.03       0.06      -0.12   \n",
      "\n",
      "               PCT_change_FB  \n",
      "High                    0.04  \n",
      "Low                     0.04  \n",
      "Open                    0.03  \n",
      "Close                   0.06  \n",
      "Volume                 -0.03  \n",
      "Adj Close               0.06  \n",
      "HL_PCT_FB              -0.12  \n",
      "PCT_change_FB           1.00  \n"
     ]
    }
   ],
   "source": [
    "# Summarize Data\n",
    "\n",
    "# Descriptive statistics\n",
    "# shape\n",
    "print(df.shape)\n",
    "# types\n",
    "print(df.dtypes)\n",
    "# head\n",
    "print(df.head(20))\n",
    "# descriptions, change precision to 2 places\n",
    "set_option('precision', 1)\n",
    "print(df.describe())\n",
    "# correlation\n",
    "set_option('precision', 2)\n",
    "print(df.corr(method='pearson'))\n"
   ]
  },
  {
   "cell_type": "code",
   "execution_count": 238,
   "metadata": {},
   "outputs": [],
   "source": [
    "#preprocess data\n",
    "scaler=StandardScaler()\n",
    "\n",
    "X_train=df[df['Date']<=train_cutoff].drop(['Close','Adj Close','Date'],axis=1)\n",
    "X_test=df[df['Date']>train_cutoff].drop(['Close','Adj Close','Date'],axis=1)\n",
    "\n",
    "X_train=scaler.fit_transform(X_train)\n",
    "X_test=scaler.fit_transform(X_test)\n",
    "\n",
    "Y_train=df[df['Date']<=train_cutoff]['Close']\n",
    "Y_test=df[df['Date']>train_cutoff]['Close']\n",
    "\n",
    "\n",
    "# Evaluate Algorithms\n",
    "# Test options and evaluation metric\n",
    "num_folds = 20\n",
    "seed = 7\n",
    "scoring = 'neg_mean_squared_error'"
   ]
  },
  {
   "cell_type": "code",
   "execution_count": 239,
   "metadata": {},
   "outputs": [],
   "source": [
    "# Spot Check Algorithms\n",
    "models = []\n",
    "models.append(('LR', LinearRegression()))\n",
    "models.append(('LASSO', Lasso()))\n",
    "models.append(('EN', ElasticNet()))\n",
    "models.append(('KNN', KNeighborsRegressor()))\n",
    "models.append(('CART', DecisionTreeRegressor()))\n",
    "models.append(('SVR', SVR()))"
   ]
  },
  {
   "cell_type": "code",
   "execution_count": 240,
   "metadata": {},
   "outputs": [
    {
     "name": "stdout",
     "output_type": "stream",
     "text": [
      "LR: -0.412985 (0.490226)\n",
      "LASSO: -2.142513 (1.674840)\n",
      "EN: -82.169061 (83.265551)\n",
      "KNN: -35.395878 (29.490449)\n",
      "CART: -5.297732 (13.752409)\n",
      "SVR: -163.514851 (264.543669)\n"
     ]
    }
   ],
   "source": [
    "# evaluate each model in turn\n",
    "results = []\n",
    "names = []\n",
    "for name, model in models:\n",
    "    kfold = KFold(n_splits=num_folds, random_state=seed)\n",
    "    cv_results = cross_val_score(model, X_train, Y_train, cv=kfold, scoring=scoring)\n",
    "    results.append(cv_results)\n",
    "    names.append(name)\n",
    "    msg = \"%s: %f (%f)\" % (name, cv_results.mean(), cv_results.std())\n",
    "    print(msg)\n",
    "    "
   ]
  },
  {
   "cell_type": "code",
   "execution_count": 241,
   "metadata": {},
   "outputs": [
    {
     "data": {
      "image/png": "[encoded data removed]",
      "text/plain": [
       "<Figure size 432x288 with 1 Axes>"
      ]
     },
     "metadata": {
      "needs_background": "light"
     },
     "output_type": "display_data"
    }
   ],
   "source": [
    "# Compare Algorithms\n",
    "fig = pyplot.figure()\n",
    "fig.suptitle('Algorithm Comparison')\n",
    "ax = fig.add_subplot(111)\n",
    "pyplot.boxplot(results)\n",
    "ax.set_xticklabels(names)\n",
    "pyplot.show()"
   ]
  },
  {
   "cell_type": "code",
   "execution_count": 242,
   "metadata": {},
   "outputs": [
    {
     "name": "stdout",
     "output_type": "stream",
     "text": [
      "ScaledLR: -0.412985 (0.490226)\n",
      "ScaledLASSO: -2.073330 (1.570941)\n",
      "ScaledEN: -75.788830 (72.165108)\n",
      "ScaledKNN: -35.277775 (28.878006)\n",
      "ScaledCART: -5.172836 (13.734962)\n",
      "ScaledSVR: -170.540481 (279.196226)\n"
     ]
    }
   ],
   "source": [
    "# Standardize the dataset\n",
    "pipelines = []\n",
    "pipelines.append(('ScaledLR', Pipeline([('Scaler', StandardScaler()),('LR', LinearRegression())])))\n",
    "pipelines.append(('ScaledLASSO', Pipeline([('Scaler', StandardScaler()),('LASSO', Lasso())])))\n",
    "pipelines.append(('ScaledEN', Pipeline([('Scaler', StandardScaler()),('EN', ElasticNet())])))\n",
    "pipelines.append(('ScaledKNN', Pipeline([('Scaler', StandardScaler()),('KNN', KNeighborsRegressor())])))\n",
    "pipelines.append(('ScaledCART', Pipeline([('Scaler', StandardScaler()),('CART', DecisionTreeRegressor())])))\n",
    "pipelines.append(('ScaledSVR', Pipeline([('Scaler', StandardScaler()),('SVR', SVR())])))\n",
    "results = []\n",
    "names = []\n",
    "for name, model in pipelines:\n",
    "\tkfold = KFold(n_splits=num_folds, random_state=seed)\n",
    "\tcv_results = cross_val_score(model, X_train, Y_train, cv=kfold, scoring=scoring)\n",
    "\tresults.append(cv_results)\n",
    "\tnames.append(name)\n",
    "\tmsg = \"%s: %f (%f)\" % (name, cv_results.mean(), cv_results.std())\n",
    "\tprint(msg)\n"
   ]
  },
  {
   "cell_type": "code",
   "execution_count": 243,
   "metadata": {},
   "outputs": [
    {
     "data": {
      "image/png": "[encoded data removed]",
      "text/plain": [
       "<Figure size 432x288 with 1 Axes>"
      ]
     },
     "metadata": {
      "needs_background": "light"
     },
     "output_type": "display_data"
    }
   ],
   "source": [
    "# Compare Algorithms\n",
    "fig = pyplot.figure()\n",
    "fig.suptitle('Scaled Algorithm Comparison')\n",
    "ax = fig.add_subplot(111)\n",
    "pyplot.boxplot(results)\n",
    "ax.set_xticklabels(names)\n",
    "pyplot.show()"
   ]
  },
  {
   "cell_type": "code",
   "execution_count": 244,
   "metadata": {},
   "outputs": [
    {
     "data": {
      "image/png": "[encoded data removed]",
      "text/plain": [
       "<Figure size 432x288 with 1 Axes>"
      ]
     },
     "metadata": {
      "needs_background": "light"
     },
     "output_type": "display_data"
    }
   ],
   "source": [
    "# Compare Algorithms\n",
    "fig = pyplot.figure()\n",
    "fig.suptitle('Scaled Ensemble Algorithm Comparison')\n",
    "ax = fig.add_subplot(111)\n",
    "pyplot.boxplot(results)\n",
    "ax.set_xticklabels(names)\n",
    "pyplot.show()"
   ]
  }
 ],
 "metadata": {
  "kernelspec": {
   "display_name": "Python 3",
   "language": "python",
   "name": "python3"
  },
  "language_info": {
   "codemirror_mode": {
    "name": "ipython",
    "version": 3
   },
   "file_extension": ".py",
   "mimetype": "text/x-python",
   "name": "python",
   "nbconvert_exporter": "python",
   "pygments_lexer": "ipython3",
   "version": "3.7.3"
  }
 },
 "nbformat": 4,
 "nbformat_minor": 2
}
